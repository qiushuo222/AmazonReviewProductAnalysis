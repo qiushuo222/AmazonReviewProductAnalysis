{
  "cells": [
    {
      "cell_type": "markdown",
      "metadata": {
        "id": "pyJgJ5DNERo5"
      },
      "source": [
        "## Load packages"
      ]
    },
    {
      "cell_type": "code",
      "execution_count": 43,
      "metadata": {
        "ExecuteTime": {
          "end_time": "2021-03-11T21:12:35.634207Z",
          "start_time": "2021-03-11T21:12:34.239216Z"
        },
        "id": "mQ0w94zPtMvw"
      },
      "outputs": [],
      "source": [
        "import pandas as pd\n",
        "from sklearn import svm\n",
        "import joblib\n",
        "from sklearn import metrics,model_selection\n",
        "import os\n",
        "import sys"
      ]
    },
    {
      "cell_type": "code",
      "execution_count": 44,
      "metadata": {},
      "outputs": [
        {
          "data": {
            "text/plain": [
              "'/home/sqa13/home/bigdata/assignment/project/cmpt732/CustomerIfPurchase_Dataset/part-00000-73d8454b-cbfc-434c-9073-af3e3a7c28f0-c000.json'"
            ]
          },
          "execution_count": 44,
          "metadata": {},
          "output_type": "execute_result"
        }
      ],
      "source": [
        "ffolder = os.path.abspath(\"\")\n",
        "Customer_IfPurchase_Dataset = \"part-00000-73d8454b-cbfc-434c-9073-af3e3a7c28f0-c000.json\"\n",
        "    \n",
        "Path = os.path.join(ffolder, \"CustomerIfPurchase_Dataset\", Customer_IfPurchase_Dataset)\n",
        "\n",
        "Path"
      ]
    },
    {
      "cell_type": "code",
      "execution_count": 45,
      "metadata": {},
      "outputs": [
        {
          "data": {
            "text/plain": [
              "Product_Main_Category     object\n",
              "Product_Brand             object\n",
              "Product_Rank               int64\n",
              "Product_Price            float64\n",
              "Review_Vote                int64\n",
              "Rate                       int64\n",
              "Product_Purchased          int64\n",
              "Brand_Encoder              int64\n",
              "Cat_Encoder                int64\n",
              "dtype: object"
            ]
          },
          "execution_count": 45,
          "metadata": {},
          "output_type": "execute_result"
        }
      ],
      "source": [
        "data = pd.read_json(Path,lines=True)\n",
        "\n",
        "data.dtypes"
      ]
    },
    {
      "cell_type": "code",
      "execution_count": 46,
      "metadata": {},
      "outputs": [
        {
          "data": {
            "text/html": [
              "<div>\n",
              "<style scoped>\n",
              "    .dataframe tbody tr th:only-of-type {\n",
              "        vertical-align: middle;\n",
              "    }\n",
              "\n",
              "    .dataframe tbody tr th {\n",
              "        vertical-align: top;\n",
              "    }\n",
              "\n",
              "    .dataframe thead th {\n",
              "        text-align: right;\n",
              "    }\n",
              "</style>\n",
              "<table border=\"1\" class=\"dataframe\">\n",
              "  <thead>\n",
              "    <tr style=\"text-align: right;\">\n",
              "      <th></th>\n",
              "      <th>Product_Main_Category</th>\n",
              "      <th>Product_Brand</th>\n",
              "      <th>Product_Rank</th>\n",
              "      <th>Product_Price</th>\n",
              "      <th>Review_Vote</th>\n",
              "      <th>Rate</th>\n",
              "      <th>Product_Purchased</th>\n",
              "      <th>Brand_Encoder</th>\n",
              "      <th>Cat_Encoder</th>\n",
              "    </tr>\n",
              "  </thead>\n",
              "  <tbody>\n",
              "    <tr>\n",
              "      <th>0</th>\n",
              "      <td>Computers</td>\n",
              "      <td>Dell</td>\n",
              "      <td>14269</td>\n",
              "      <td>76.40</td>\n",
              "      <td>0</td>\n",
              "      <td>3</td>\n",
              "      <td>1</td>\n",
              "      <td>3961</td>\n",
              "      <td>13</td>\n",
              "    </tr>\n",
              "    <tr>\n",
              "      <th>1</th>\n",
              "      <td>Computers</td>\n",
              "      <td>Easy Style</td>\n",
              "      <td>21056</td>\n",
              "      <td>24.47</td>\n",
              "      <td>0</td>\n",
              "      <td>5</td>\n",
              "      <td>1</td>\n",
              "      <td>4606</td>\n",
              "      <td>13</td>\n",
              "    </tr>\n",
              "    <tr>\n",
              "      <th>2</th>\n",
              "      <td>Computers</td>\n",
              "      <td>Samsung</td>\n",
              "      <td>10109</td>\n",
              "      <td>399.95</td>\n",
              "      <td>7</td>\n",
              "      <td>1</td>\n",
              "      <td>-1</td>\n",
              "      <td>13084</td>\n",
              "      <td>13</td>\n",
              "    </tr>\n",
              "    <tr>\n",
              "      <th>3</th>\n",
              "      <td>Computers</td>\n",
              "      <td>ZTC</td>\n",
              "      <td>290</td>\n",
              "      <td>0.37</td>\n",
              "      <td>0</td>\n",
              "      <td>4</td>\n",
              "      <td>1</td>\n",
              "      <td>16827</td>\n",
              "      <td>13</td>\n",
              "    </tr>\n",
              "    <tr>\n",
              "      <th>4</th>\n",
              "      <td>Computers</td>\n",
              "      <td>ProCase</td>\n",
              "      <td>95</td>\n",
              "      <td>15.99</td>\n",
              "      <td>0</td>\n",
              "      <td>5</td>\n",
              "      <td>1</td>\n",
              "      <td>11853</td>\n",
              "      <td>13</td>\n",
              "    </tr>\n",
              "    <tr>\n",
              "      <th>...</th>\n",
              "      <td>...</td>\n",
              "      <td>...</td>\n",
              "      <td>...</td>\n",
              "      <td>...</td>\n",
              "      <td>...</td>\n",
              "      <td>...</td>\n",
              "      <td>...</td>\n",
              "      <td>...</td>\n",
              "      <td>...</td>\n",
              "    </tr>\n",
              "    <tr>\n",
              "      <th>767923</th>\n",
              "      <td>Portable Audio &amp; Accessories</td>\n",
              "      <td>Generic</td>\n",
              "      <td>149503</td>\n",
              "      <td>6.81</td>\n",
              "      <td>0</td>\n",
              "      <td>1</td>\n",
              "      <td>1</td>\n",
              "      <td>5950</td>\n",
              "      <td>22</td>\n",
              "    </tr>\n",
              "    <tr>\n",
              "      <th>767924</th>\n",
              "      <td>Portable Audio &amp; Accessories</td>\n",
              "      <td>GizmoDorks</td>\n",
              "      <td>214049</td>\n",
              "      <td>15.02</td>\n",
              "      <td>0</td>\n",
              "      <td>5</td>\n",
              "      <td>1</td>\n",
              "      <td>6056</td>\n",
              "      <td>22</td>\n",
              "    </tr>\n",
              "    <tr>\n",
              "      <th>767925</th>\n",
              "      <td>Portable Audio &amp; Accessories</td>\n",
              "      <td>INSTEN</td>\n",
              "      <td>8</td>\n",
              "      <td>6.99</td>\n",
              "      <td>0</td>\n",
              "      <td>5</td>\n",
              "      <td>1</td>\n",
              "      <td>7192</td>\n",
              "      <td>22</td>\n",
              "    </tr>\n",
              "    <tr>\n",
              "      <th>767926</th>\n",
              "      <td>Portable Audio &amp; Accessories</td>\n",
              "      <td>INSTEN</td>\n",
              "      <td>8</td>\n",
              "      <td>6.99</td>\n",
              "      <td>0</td>\n",
              "      <td>5</td>\n",
              "      <td>1</td>\n",
              "      <td>7192</td>\n",
              "      <td>22</td>\n",
              "    </tr>\n",
              "    <tr>\n",
              "      <th>767927</th>\n",
              "      <td>Portable Audio &amp; Accessories</td>\n",
              "      <td>iClever</td>\n",
              "      <td>249769</td>\n",
              "      <td>12.99</td>\n",
              "      <td>14</td>\n",
              "      <td>5</td>\n",
              "      <td>-1</td>\n",
              "      <td>17213</td>\n",
              "      <td>22</td>\n",
              "    </tr>\n",
              "  </tbody>\n",
              "</table>\n",
              "<p>767928 rows × 9 columns</p>\n",
              "</div>"
            ],
            "text/plain": [
              "               Product_Main_Category Product_Brand  Product_Rank  \\\n",
              "0                          Computers          Dell         14269   \n",
              "1                          Computers    Easy Style         21056   \n",
              "2                          Computers       Samsung         10109   \n",
              "3                          Computers           ZTC           290   \n",
              "4                          Computers       ProCase            95   \n",
              "...                              ...           ...           ...   \n",
              "767923  Portable Audio & Accessories       Generic        149503   \n",
              "767924  Portable Audio & Accessories    GizmoDorks        214049   \n",
              "767925  Portable Audio & Accessories        INSTEN             8   \n",
              "767926  Portable Audio & Accessories        INSTEN             8   \n",
              "767927  Portable Audio & Accessories       iClever        249769   \n",
              "\n",
              "        Product_Price  Review_Vote  Rate  Product_Purchased  Brand_Encoder  \\\n",
              "0               76.40            0     3                  1           3961   \n",
              "1               24.47            0     5                  1           4606   \n",
              "2              399.95            7     1                 -1          13084   \n",
              "3                0.37            0     4                  1          16827   \n",
              "4               15.99            0     5                  1          11853   \n",
              "...               ...          ...   ...                ...            ...   \n",
              "767923           6.81            0     1                  1           5950   \n",
              "767924          15.02            0     5                  1           6056   \n",
              "767925           6.99            0     5                  1           7192   \n",
              "767926           6.99            0     5                  1           7192   \n",
              "767927          12.99           14     5                 -1          17213   \n",
              "\n",
              "        Cat_Encoder  \n",
              "0                13  \n",
              "1                13  \n",
              "2                13  \n",
              "3                13  \n",
              "4                13  \n",
              "...             ...  \n",
              "767923           22  \n",
              "767924           22  \n",
              "767925           22  \n",
              "767926           22  \n",
              "767927           22  \n",
              "\n",
              "[767928 rows x 9 columns]"
            ]
          },
          "metadata": {},
          "output_type": "display_data"
        }
      ],
      "source": [
        "display(data)"
      ]
    },
    {
      "cell_type": "code",
      "execution_count": 47,
      "metadata": {},
      "outputs": [],
      "source": [
        "data[\"Product_Rank\"] = data[\"Product_Rank\"].astype(\"float64\")\n",
        "data[\"Review_Vote\"] = data[\"Review_Vote\"].astype(\"float64\")\n",
        "data[\"Brand_Encoder\"] = data[\"Brand_Encoder\"].astype(\"float64\")\n",
        "data[\"Cat_Encoder\"] = data[\"Cat_Encoder\"].astype(\"float64\")\n",
        "data[\"Rate\"] = data[\"Rate\"].astype(\"float64\")"
      ]
    },
    {
      "cell_type": "code",
      "execution_count": 48,
      "metadata": {},
      "outputs": [
        {
          "data": {
            "text/html": [
              "<div>\n",
              "<style scoped>\n",
              "    .dataframe tbody tr th:only-of-type {\n",
              "        vertical-align: middle;\n",
              "    }\n",
              "\n",
              "    .dataframe tbody tr th {\n",
              "        vertical-align: top;\n",
              "    }\n",
              "\n",
              "    .dataframe thead th {\n",
              "        text-align: right;\n",
              "    }\n",
              "</style>\n",
              "<table border=\"1\" class=\"dataframe\">\n",
              "  <thead>\n",
              "    <tr style=\"text-align: right;\">\n",
              "      <th></th>\n",
              "      <th>Product_Main_Category</th>\n",
              "      <th>Product_Brand</th>\n",
              "      <th>Product_Rank</th>\n",
              "      <th>Product_Price</th>\n",
              "      <th>Review_Vote</th>\n",
              "      <th>Rate</th>\n",
              "      <th>Product_Purchased</th>\n",
              "      <th>Brand_Encoder</th>\n",
              "      <th>Cat_Encoder</th>\n",
              "    </tr>\n",
              "  </thead>\n",
              "  <tbody>\n",
              "    <tr>\n",
              "      <th>0</th>\n",
              "      <td>Computers</td>\n",
              "      <td>Dell</td>\n",
              "      <td>14269.0</td>\n",
              "      <td>76.40</td>\n",
              "      <td>0.0</td>\n",
              "      <td>3.0</td>\n",
              "      <td>1</td>\n",
              "      <td>3961.0</td>\n",
              "      <td>13.0</td>\n",
              "    </tr>\n",
              "    <tr>\n",
              "      <th>1</th>\n",
              "      <td>Computers</td>\n",
              "      <td>Easy Style</td>\n",
              "      <td>21056.0</td>\n",
              "      <td>24.47</td>\n",
              "      <td>0.0</td>\n",
              "      <td>5.0</td>\n",
              "      <td>1</td>\n",
              "      <td>4606.0</td>\n",
              "      <td>13.0</td>\n",
              "    </tr>\n",
              "    <tr>\n",
              "      <th>2</th>\n",
              "      <td>Computers</td>\n",
              "      <td>Samsung</td>\n",
              "      <td>10109.0</td>\n",
              "      <td>399.95</td>\n",
              "      <td>7.0</td>\n",
              "      <td>1.0</td>\n",
              "      <td>-1</td>\n",
              "      <td>13084.0</td>\n",
              "      <td>13.0</td>\n",
              "    </tr>\n",
              "    <tr>\n",
              "      <th>3</th>\n",
              "      <td>Computers</td>\n",
              "      <td>ZTC</td>\n",
              "      <td>290.0</td>\n",
              "      <td>0.37</td>\n",
              "      <td>0.0</td>\n",
              "      <td>4.0</td>\n",
              "      <td>1</td>\n",
              "      <td>16827.0</td>\n",
              "      <td>13.0</td>\n",
              "    </tr>\n",
              "    <tr>\n",
              "      <th>4</th>\n",
              "      <td>Computers</td>\n",
              "      <td>ProCase</td>\n",
              "      <td>95.0</td>\n",
              "      <td>15.99</td>\n",
              "      <td>0.0</td>\n",
              "      <td>5.0</td>\n",
              "      <td>1</td>\n",
              "      <td>11853.0</td>\n",
              "      <td>13.0</td>\n",
              "    </tr>\n",
              "    <tr>\n",
              "      <th>...</th>\n",
              "      <td>...</td>\n",
              "      <td>...</td>\n",
              "      <td>...</td>\n",
              "      <td>...</td>\n",
              "      <td>...</td>\n",
              "      <td>...</td>\n",
              "      <td>...</td>\n",
              "      <td>...</td>\n",
              "      <td>...</td>\n",
              "    </tr>\n",
              "    <tr>\n",
              "      <th>767923</th>\n",
              "      <td>Portable Audio &amp; Accessories</td>\n",
              "      <td>Generic</td>\n",
              "      <td>149503.0</td>\n",
              "      <td>6.81</td>\n",
              "      <td>0.0</td>\n",
              "      <td>1.0</td>\n",
              "      <td>1</td>\n",
              "      <td>5950.0</td>\n",
              "      <td>22.0</td>\n",
              "    </tr>\n",
              "    <tr>\n",
              "      <th>767924</th>\n",
              "      <td>Portable Audio &amp; Accessories</td>\n",
              "      <td>GizmoDorks</td>\n",
              "      <td>214049.0</td>\n",
              "      <td>15.02</td>\n",
              "      <td>0.0</td>\n",
              "      <td>5.0</td>\n",
              "      <td>1</td>\n",
              "      <td>6056.0</td>\n",
              "      <td>22.0</td>\n",
              "    </tr>\n",
              "    <tr>\n",
              "      <th>767925</th>\n",
              "      <td>Portable Audio &amp; Accessories</td>\n",
              "      <td>INSTEN</td>\n",
              "      <td>8.0</td>\n",
              "      <td>6.99</td>\n",
              "      <td>0.0</td>\n",
              "      <td>5.0</td>\n",
              "      <td>1</td>\n",
              "      <td>7192.0</td>\n",
              "      <td>22.0</td>\n",
              "    </tr>\n",
              "    <tr>\n",
              "      <th>767926</th>\n",
              "      <td>Portable Audio &amp; Accessories</td>\n",
              "      <td>INSTEN</td>\n",
              "      <td>8.0</td>\n",
              "      <td>6.99</td>\n",
              "      <td>0.0</td>\n",
              "      <td>5.0</td>\n",
              "      <td>1</td>\n",
              "      <td>7192.0</td>\n",
              "      <td>22.0</td>\n",
              "    </tr>\n",
              "    <tr>\n",
              "      <th>767927</th>\n",
              "      <td>Portable Audio &amp; Accessories</td>\n",
              "      <td>iClever</td>\n",
              "      <td>249769.0</td>\n",
              "      <td>12.99</td>\n",
              "      <td>14.0</td>\n",
              "      <td>5.0</td>\n",
              "      <td>-1</td>\n",
              "      <td>17213.0</td>\n",
              "      <td>22.0</td>\n",
              "    </tr>\n",
              "  </tbody>\n",
              "</table>\n",
              "<p>767928 rows × 9 columns</p>\n",
              "</div>"
            ],
            "text/plain": [
              "               Product_Main_Category Product_Brand  Product_Rank  \\\n",
              "0                          Computers          Dell       14269.0   \n",
              "1                          Computers    Easy Style       21056.0   \n",
              "2                          Computers       Samsung       10109.0   \n",
              "3                          Computers           ZTC         290.0   \n",
              "4                          Computers       ProCase          95.0   \n",
              "...                              ...           ...           ...   \n",
              "767923  Portable Audio & Accessories       Generic      149503.0   \n",
              "767924  Portable Audio & Accessories    GizmoDorks      214049.0   \n",
              "767925  Portable Audio & Accessories        INSTEN           8.0   \n",
              "767926  Portable Audio & Accessories        INSTEN           8.0   \n",
              "767927  Portable Audio & Accessories       iClever      249769.0   \n",
              "\n",
              "        Product_Price  Review_Vote  Rate  Product_Purchased  Brand_Encoder  \\\n",
              "0               76.40          0.0   3.0                  1         3961.0   \n",
              "1               24.47          0.0   5.0                  1         4606.0   \n",
              "2              399.95          7.0   1.0                 -1        13084.0   \n",
              "3                0.37          0.0   4.0                  1        16827.0   \n",
              "4               15.99          0.0   5.0                  1        11853.0   \n",
              "...               ...          ...   ...                ...            ...   \n",
              "767923           6.81          0.0   1.0                  1         5950.0   \n",
              "767924          15.02          0.0   5.0                  1         6056.0   \n",
              "767925           6.99          0.0   5.0                  1         7192.0   \n",
              "767926           6.99          0.0   5.0                  1         7192.0   \n",
              "767927          12.99         14.0   5.0                 -1        17213.0   \n",
              "\n",
              "        Cat_Encoder  \n",
              "0              13.0  \n",
              "1              13.0  \n",
              "2              13.0  \n",
              "3              13.0  \n",
              "4              13.0  \n",
              "...             ...  \n",
              "767923         22.0  \n",
              "767924         22.0  \n",
              "767925         22.0  \n",
              "767926         22.0  \n",
              "767927         22.0  \n",
              "\n",
              "[767928 rows x 9 columns]"
            ]
          },
          "metadata": {},
          "output_type": "display_data"
        }
      ],
      "source": [
        "display(data)"
      ]
    },
    {
      "cell_type": "code",
      "execution_count": 49,
      "metadata": {},
      "outputs": [
        {
          "data": {
            "text/plain": [
              "Product_Main_Category     object\n",
              "Product_Brand             object\n",
              "Product_Rank             float64\n",
              "Product_Price            float64\n",
              "Review_Vote              float64\n",
              "Rate                     float64\n",
              "Product_Purchased          int64\n",
              "Brand_Encoder            float64\n",
              "Cat_Encoder              float64\n",
              "dtype: object"
            ]
          },
          "execution_count": 49,
          "metadata": {},
          "output_type": "execute_result"
        }
      ],
      "source": [
        "data.dtypes"
      ]
    },
    {
      "cell_type": "code",
      "execution_count": 50,
      "metadata": {},
      "outputs": [],
      "source": [
        "X = data[[\"Cat_Encoder\", \"Brand_Encoder\", \"Product_Rank\", \"Product_Price\", \"Rate\", \"Review_Vote\"]]\n",
        "Y = data[\"Product_Purchased\"]\n",
        "X = X.to_numpy()\n",
        "Y = Y.to_numpy()"
      ]
    },
    {
      "cell_type": "code",
      "execution_count": 51,
      "metadata": {},
      "outputs": [
        {
          "data": {
            "text/plain": [
              "array([[1.30000e+01, 3.96100e+03, 1.42690e+04, 7.64000e+01, 3.00000e+00,\n",
              "        0.00000e+00],\n",
              "       [1.30000e+01, 4.60600e+03, 2.10560e+04, 2.44700e+01, 5.00000e+00,\n",
              "        0.00000e+00],\n",
              "       [1.30000e+01, 1.30840e+04, 1.01090e+04, 3.99950e+02, 1.00000e+00,\n",
              "        7.00000e+00],\n",
              "       ...,\n",
              "       [2.20000e+01, 7.19200e+03, 8.00000e+00, 6.99000e+00, 5.00000e+00,\n",
              "        0.00000e+00],\n",
              "       [2.20000e+01, 7.19200e+03, 8.00000e+00, 6.99000e+00, 5.00000e+00,\n",
              "        0.00000e+00],\n",
              "       [2.20000e+01, 1.72130e+04, 2.49769e+05, 1.29900e+01, 5.00000e+00,\n",
              "        1.40000e+01]])"
            ]
          },
          "metadata": {},
          "output_type": "display_data"
        }
      ],
      "source": [
        "display(X)"
      ]
    },
    {
      "cell_type": "code",
      "execution_count": 52,
      "metadata": {},
      "outputs": [
        {
          "data": {
            "text/plain": [
              "array([ 1,  1, -1, ...,  1,  1, -1])"
            ]
          },
          "metadata": {},
          "output_type": "display_data"
        }
      ],
      "source": [
        "display(Y)"
      ]
    },
    {
      "cell_type": "code",
      "execution_count": 53,
      "metadata": {},
      "outputs": [],
      "source": [
        "x_train, x_test, y_train, y_test = model_selection.train_test_split(X,Y, train_size=0.98, test_size=0.02)"
      ]
    },
    {
      "cell_type": "code",
      "execution_count": 54,
      "metadata": {},
      "outputs": [],
      "source": [
        "x_train, x_val, y_train, y_val = model_selection.train_test_split(x_train, y_train, train_size=0.95, test_size=0.05)"
      ]
    },
    {
      "cell_type": "code",
      "execution_count": 55,
      "metadata": {},
      "outputs": [
        {
          "data": {
            "text/plain": [
              "(15359, 6)"
            ]
          },
          "execution_count": 55,
          "metadata": {},
          "output_type": "execute_result"
        }
      ],
      "source": [
        "x_test.shape"
      ]
    },
    {
      "cell_type": "code",
      "execution_count": 60,
      "metadata": {},
      "outputs": [
        {
          "data": {
            "text/plain": [
              "-1"
            ]
          },
          "execution_count": 60,
          "metadata": {},
          "output_type": "execute_result"
        }
      ],
      "source": [
        "y_test[y_test == -1][0]"
      ]
    },
    {
      "cell_type": "code",
      "execution_count": null,
      "metadata": {},
      "outputs": [],
      "source": []
    }
  ],
  "metadata": {
    "colab": {
      "collapsed_sections": [],
      "name": "Autoencoder_sample.ipynb",
      "provenance": []
    },
    "kernelspec": {
      "display_name": "Python 3",
      "language": "python",
      "name": "python3"
    },
    "language_info": {
      "codemirror_mode": {
        "name": "ipython",
        "version": 3
      },
      "file_extension": ".py",
      "mimetype": "text/x-python",
      "name": "python",
      "nbconvert_exporter": "python",
      "pygments_lexer": "ipython3",
      "version": "3.8.8"
    },
    "nteract": {
      "version": "0.28.0"
    }
  },
  "nbformat": 4,
  "nbformat_minor": 0
}
